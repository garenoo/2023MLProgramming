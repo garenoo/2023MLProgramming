{
  "nbformat": 4,
  "nbformat_minor": 0,
  "metadata": {
    "colab": {
      "provenance": [],
      "authorship_tag": "ABX9TyOYSqO5N+FaiWIvY5Juj5yy",
      "include_colab_link": true
    },
    "kernelspec": {
      "name": "python3",
      "display_name": "Python 3"
    },
    "language_info": {
      "name": "python"
    }
  },
  "cells": [
    {
      "cell_type": "markdown",
      "metadata": {
        "id": "view-in-github",
        "colab_type": "text"
      },
      "source": [
        "<a href=\"https://colab.research.google.com/github/garenoo/2023MLProgramming/blob/main/8_1.ipynb\" target=\"_parent\"><img src=\"https://colab.research.google.com/assets/colab-badge.svg\" alt=\"Open In Colab\"/></a>"
      ]
    },
    {
      "cell_type": "markdown",
      "source": [
        "인공신경망은 뉴런마다 입력 개수만큼 가중치가 있어, 모든 입력에 가중치를 곱합\n",
        "각 특성에 뉴런의 가중치(w)를 곱하고 절편 더하기 -> 1개의 출력\n"
      ],
      "metadata": {
        "id": "UjFVzNvfF3on"
      }
    },
    {
      "cell_type": "markdown",
      "source": [
        "인공 신경망은 처음에 가중치들과 절편을 랜덤하게 초기화한 다음 에포크를 반복하면서 경사하강법 알고리즘을 사용해서 손실이 낮아지도록 최적의 가중치와 절편을 찾아감 => 모델 훈련\n",
        "밀집층에 뉴런이 3개있으면 출력값도 3개"
      ],
      "metadata": {
        "id": "YEuxX2LoF34q"
      }
    },
    {
      "cell_type": "markdown",
      "source": [
        "합성곱 신경망\n",
        "합성곱은 밀집층의 계산과 조금 다름.\n",
        "입력 데이터 전체에 가중치를 적용하는 것이 아니라 일부  가중치에\n",
        "예를 들어 입력값이 10개이고 뉴런이 3개의 가중치를 갖고 있다면 1,2,3번 째 입력에 대한"
      ],
      "metadata": {
        "id": "MAS9EsNJF39a"
      }
    },
    {
      "cell_type": "markdown",
      "source": [
        "합성곱 신경망에서는 완전연결 신경망과 달리 뉴런을 필터 또는 커널이라고 부름\n",
        "필터는 뉴런 개수를 표현할 때 사용되며, 커널은 입력에 곱하는 가중치를 뜻함"
      ],
      "metadata": {
        "id": "FZDLD8p6G-V8"
      }
    },
    {
      "cell_type": "markdown",
      "source": [
        "합성곱은 1차원이 아니라 2차원 입력에도 적용할 수 있는 장점이 있음\n"
      ],
      "metadata": {
        "id": "JMlsztfiHGb2"
      }
    },
    {
      "cell_type": "markdown",
      "source": [
        "특성맵: 합성곱 계산을 통해 얻은 출력으로 활성화 함수가 적용된 값\n",
        "\n",
        "밀집층에서 여러 개의 뉴런을 사용하듯 합성곱 층에서도 여러 개의 필터 사용 가능\n",
        "여러 개의 필터를 사용하면 만들어진 특성 맵은 순서대로 차곡차곡 쌓임\n",
        "(2,2) 특성맵을 쌓으면 (2,2,3)의 3차원 배열이 됨\n",
        "\n",
        "2,2 특성맵이 3개"
      ],
      "metadata": {
        "id": "4b8f2h2nHequ"
      }
    },
    {
      "cell_type": "markdown",
      "source": [
        "밀집층에 있는 뉴런의 가중치가 모두 다르듯이 합성곱 층에 있는 필터의 가중치(커널)도 모두 다름"
      ],
      "metadata": {
        "id": "p70LIeq3HxHt"
      }
    },
    {
      "cell_type": "markdown",
      "source": [
        "밀집층 vs 합성곱\n",
        "1. 2차원 형태를 유지\n",
        "2. 입력보다 훨씬 작은 크기의 커널 사용\n",
        "2차원 구조를 그대로 사용하기 때문에 합성곱 신경망이 이미지 처리 분야에서 뛰어난 성능 발휘"
      ],
      "metadata": {
        "id": "icFIfMuQIA0l"
      }
    },
    {
      "cell_type": "markdown",
      "source": [
        "케라스 합성곱 층\n",
        "keras.layers패키지 아래의 클래스로 구현\n",
        "위와 같은 합성곱은 Conv2D 클래스로 제공"
      ],
      "metadata": {
        "id": "kCk2zwYYIkMG"
      }
    },
    {
      "cell_type": "markdown",
      "source": [
        "Conv2D의 첫번째 매개변수는 필터의 개수\n",
        "kernel_size는 필터에 사용할"
      ],
      "metadata": {
        "id": "6Q6-LAjtIsQ_"
      }
    },
    {
      "cell_type": "markdown",
      "source": [
        "패딩: 커널 크기를 고정하면서도 출력의 크기를 입력과 동일하게 만들기 위해 입력 배열 주위를 가상의 원소로 채우는 것\n",
        "실제 입력값은 아니라도 0으로 채워지며 계산에 영향을 주지 않음\n",
        "\n",
        "세임패딩: 입력과 특성 맵의 크기를 동일하게 만들기 위해 입력 주위에 0으로 패딩하는 것\n",
        "합성곱 신경망에서는 세임 패딩이 많이 사용"
      ],
      "metadata": {
        "id": "UuxWKvk_JSS2"
      }
    },
    {
      "cell_type": "code",
      "source": [
        "keras.layers.Conv2D(10, padding='same')"
      ],
      "metadata": {
        "id": "PhaZoac-KBAY"
      },
      "execution_count": null,
      "outputs": []
    },
    {
      "cell_type": "markdown",
      "source": [
        "왜 합성곱에서 패딩을 즐겨 사용하는가 (중요)\n",
        "패딩이 없다면 모서리 값들은 커널 도장에 딱 한번만 쓰이지만 다른 원소들은 2번 이상 커널과 계산됨.\n",
        "즉, 모서리에 있는 중요한 정보가 특성맵으로 잘 전달되지 않을 가능성이 높고 가운데 있는 정보는 두드러지게 표현됨.\n",
        "패딩을 하지 않을 경우, 중앙과 모서리 픽셀이 합성곱에 참여하는 비율이 (4:1)로 크게 차이남\n",
        "반면에 패딩을 하면 9:4"
      ],
      "metadata": {
        "id": "F1e2iuQ5JqLn"
      }
    },
    {
      "cell_type": "markdown",
      "source": [
        "스트라이드: 합성곱\n",
        "합성곱 연산에서 커널이 이동하는 칸 수\n",
        "기본값은 1로 좌우, 위아래로 한칸씩 이동\n",
        "이동하는 크기를 (1,1)과 같이 튜플을 사용해 각각 지정\n",
        "합성곱 연산 횟수와 특성맵의 크기를 줄이는 역할을 하나, 자주 사용되지는 않음"
      ],
      "metadata": {
        "id": "fiw4FF3fJ8sz"
      }
    },
    {
      "cell_type": "code",
      "source": [
        "keras.layers.Conv2D(10, padding='same', strides = 1)"
      ],
      "metadata": {
        "id": "EnGC01rrKRp9"
      },
      "execution_count": null,
      "outputs": []
    },
    {
      "cell_type": "markdown",
      "source": [
        "풀링\n",
        "합성곱 층에서 만든 특성맵에 가로세로 크기를 줄이는 역할\n",
        "특성맵의 개수는 줄이지 않음\n",
        "합성곱처럼 입력 위를 지나가면서 도장을 찍으나 가중치가 없으며 겹치지 않음\n",
        "\n",
        "최대 풀링: 도장을 찍는 영역에서 가장 큰값 선택\n",
        "평균 풀링: 도장을 찍는 영역의 평균값 계산"
      ],
      "metadata": {
        "id": "_LQBz3etKVbo"
      }
    },
    {
      "cell_type": "markdown",
      "source": [
        "풀링을 사용하는 이유\n",
        "합성곱에서 스트라이드를 크게 하여 특성 맵을 줄이는 것보다 풀링 층에서 크기를 줄이는 것이 경험적으로 더 나은 성능을 내기 때문\n",
        "합성곱 신경망은 합성곱 층에서"
      ],
      "metadata": {
        "id": "VFqoQxQkKxIZ"
      }
    },
    {
      "cell_type": "code",
      "source": [
        "# 최대 풀링\n",
        "keras.layers.MAXPooling2D(2, padding='same', strides = 2)\n",
        "# 첫번째 매개변수는 풀링의 크기로서 2로 지정\n",
        "\n",
        "\n",
        "# 평균 풀링\n",
        "keras.layers.AveragePooling2D(2, padding='same', strides = 2)"
      ],
      "metadata": {
        "id": "2yQezmtzK7Jk"
      },
      "execution_count": null,
      "outputs": []
    },
    {
      "cell_type": "markdown",
      "source": [
        "합성곱 과 풀링의 반복 사용\n",
        "입력이 (4,4,3)이고 (3,3,3) 크기의 커널을 가지는 5개의 필터가 있다고 가정\n",
        "패딩을 사용하고 첫번째 풀링층을\n",
        "\n",
        "두번째 합성곱 층의 필터 개수가 10개라면 만들어진 특성맵의 크기는 (2,2,10)이 됨\n",
        "즉, 깊이가 추가됨\n",
        "합성곱 신경망으 너비와 높이는 점점 줄어들지만"
      ],
      "metadata": {
        "id": "ruOLzTEnMhpA"
      }
    },
    {
      "cell_type": "markdown",
      "source": [
        "이미지 분석을 위한 합성곱 신경망 모델 이용\n",
        "합성곱 신경망에서 필터는 이미지에 있는 어떤 특징을 찾는다고 생각할 수 있음\n",
        "처음에는 간단한 기본적인 특징(직선, 곡선 등)을 찾고 층이 깊어질수록 다양하고 구체적인 특징을 감지할 수 있도록 필터의 개수를 늘림\n",
        "또한 어떤 특징이 이미지의 어느 위치에 놓이더라도 쉽게 감지할 수 있도록 너비와 높이 차원을 점점 줄여나감"
      ],
      "metadata": {
        "id": "bV53GYvzNGFO"
      }
    },
    {
      "cell_type": "code",
      "source": [],
      "metadata": {
        "id": "p3RG4ADjM4hR"
      },
      "execution_count": null,
      "outputs": []
    }
  ]
}